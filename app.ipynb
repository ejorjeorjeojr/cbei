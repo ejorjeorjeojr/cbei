{
 "cells": [
  {
   "cell_type": "code",
   "execution_count": 19,
   "metadata": {},
   "outputs": [],
   "source": [
    "import requests\n",
    "import pprint\n",
    "\n",
    "def get_sc_code(name):\n",
    "    param = {\n",
    "        \"SCHUL_NM\" : name,\n",
    "        \"ATPT_OFCDC_SC_CODE\":\"M10\",\n",
    "        \"Type\": \"json\"\n",
    "    }\n",
    "    res = requests.get(\"https://open.neis.go.kr/hub/schoolInfo\", params = param)\n",
    "    data = res.json()\n",
    "    r = True\n",
    "    try:\n",
    "        data = data[\"schoolInfo\"][1]['row'][0][\"SD_SCHUL_CODE\"]\n",
    "    except:   \n",
    "           data = \"못찾음...미안\" \n",
    "           r = False\n",
    "    return r, data\n",
    "def get_meal(code, d):\n",
    "    params = {\n",
    "        \"ATPT_OFCDC_SC_CODE\":\"M10\",\n",
    "        \"Type\": \"json\",\n",
    "        \"SD_SCHUL_CODE\": code,\n",
    "        \"MLSV_YMD\":d,\n",
    "    }\n",
    "    res = requests.get(\"https://open.neis.go.kr/hub/mealServiceDietInfo\",params = params)\n",
    "    data = res.json()\n",
    "    data = data[\"mealServiceDietInfo\"][1][\"row\"][0][\"DDISH_NM\"]\n",
    "    data = data.split(\"<br/>\")\n",
    "    newData = []\n",
    "    for m in data:\n",
    "        newData.append(m.split(\"  \")[0])\n",
    "    return newData\n"
   ]
  },
  {
   "cell_type": "code",
   "execution_count": 34,
   "metadata": {},
   "outputs": [
    {
     "name": "stdout",
     "output_type": "stream",
     "text": [
      "-버튼1- {'-scname-': '세광중', '-date-': '20230630', '-txt-': '데이터 없음'}\n",
      "None None\n"
     ]
    }
   ],
   "source": [
    "import PySimpleGUI as sg\n",
    "layout = [\n",
    "     [sg.Text(\"학교 이름\"),sg.Input(\"세광중\",key=\"-scname-\")],\n",
    "     [sg.Text(\"날짜\"),sg.Input(\"20230630\",key=\"-date-\")],\n",
    "     [sg.Multiline(\"데이터 없음\",key = \"-txt-\",expand_x = True,size=(0,5))],\n",
    "     [sg.Button(\"찾기\",key=\"-버튼1-\", expand_x=True)],\n",
    "]\n",
    "window=sg.Window(\"CBEI\",layout)\n",
    "while True:\n",
    "    event, values = window.read()\n",
    "    print(event,values)\n",
    "    if event == sg.WIN_CLOSED:\n",
    "        break\n",
    "    if event ==\"-버튼1-\":\n",
    "        scname = values[\"-scname-\"]\n",
    "        d= values[\"-date-\"]\n",
    "        r,data = get_sc_code(scname)\n",
    "        if r == True:\n",
    "            meals =get_meal(data, d)\n",
    "            window[\"-txt-\"].update(\" \\n\".join(meals))\n",
    "window.close()\n",
    "\n",
    "    \n",
    "\n",
    "\n"
   ]
  },
  {
   "cell_type": "code",
   "execution_count": 33,
   "metadata": {},
   "outputs": [],
   "source": [
    "window.close()"
   ]
  }
 ],
 "metadata": {
  "interpreter": {
   "hash": "2647ea34e536f865ab67ff9ddee7fd78773d956cec0cab53c79b32cd10da5d83"
  },
  "kernelspec": {
   "display_name": "Python 3.9.6 64-bit",
   "name": "python3"
  },
  "language_info": {
   "codemirror_mode": {
    "name": "ipython",
    "version": 3
   },
   "file_extension": ".py",
   "mimetype": "text/x-python",
   "name": "python",
   "nbconvert_exporter": "python",
   "pygments_lexer": "ipython3",
   "version": "3.9.6"
  },
  "orig_nbformat": 4
 },
 "nbformat": 4,
 "nbformat_minor": 2
}
